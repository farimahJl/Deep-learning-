{
 "cells": [
  {
   "cell_type": "markdown",
   "metadata": {
    "id": "joSo-co4o59g"
   },
   "source": [
    "# Medical MNIST dataset\n",
    "\n",
    "The *Medical MNIST dataset* has been selected for this project. This dataset contains 6 classes of medical images, and each class has approximately 10k samples. All the images are in the size of 64 by 64. "
   ]
  },
  {
   "cell_type": "markdown",
   "metadata": {
    "id": "rf2wiHe6pCNp"
   },
   "source": [
    "**Data Exploration - Reading the dataset and extracting features**\n",
    "\n",
    "Each folder in the archive directory contains sample images in each class. So, the name of folders are considered as *Label Names* and the number of images in each class (folder) is reported. Also, some examples of the dataset have been showed.\n",
    "\n",
    "All images (after converting from bgr to grayscale) have the shape of [64,64,1]. So, totaly, each data sample (image) has 64 × 64 × 1 = 4096 features.\n"
   ]
  },
  {
   "cell_type": "code",
   "execution_count": 13,
   "metadata": {
    "id": "tFnUfbf5wEHH"
   },
   "outputs": [],
   "source": [
    "import numpy as np\n",
    "import os\n",
    "from PIL import Image\n",
    "import matplotlib.pyplot as plt\n",
    "import matplotlib.image as mpimg"
   ]
  },
  {
   "cell_type": "code",
   "execution_count": 14,
   "metadata": {
    "colab": {
     "base_uri": "https://localhost:8080/",
     "height": 238
    },
    "id": "hlRbfh31pF5r",
    "outputId": "1054a380-b787-4d2c-ee5f-4359790b4b69"
   },
   "outputs": [
    {
     "name": "stdout",
     "output_type": "stream",
     "text": [
      "No. of Samples (images) in Class  AbdomenCT =  10000\n",
      "No. of Samples (images) in Class  BreastMRI =  8954\n",
      "No. of Samples (images) in Class  ChestCT =  10000\n",
      "No. of Samples (images) in Class  CXR =  10000\n",
      "No. of Samples (images) in Class  Hand =  10000\n",
      "No. of Samples (images) in Class  HeadCT =  10000\n",
      "Total Data Samples (number of images):  58954\n",
      "Number of features in each sample =  4096\n"
     ]
    },
    {
     "data": {
      "image/png": "[encoded data removed]",
      "text/plain": [
       "<Figure size 432x288 with 6 Axes>"
      ]
     },
     "metadata": {
      "needs_background": "light"
     },
     "output_type": "display_data"
    }
   ],
   "source": [
    "k=0;           # counter for data samples\n",
    "Dataset = [];  # the dataset that will be used in classical models (non deep)\n",
    "imgdb = [];    # the dataset that will be used in Neural Network models (fully-connected and CNN)\n",
    "Label = [];    # Label of images = folder name\n",
    "fig = plt.figure()\n",
    "im_counter=1;\n",
    "for dir1 in os.listdir('archive'):\n",
    "  class_counter=0;\n",
    "  for file in os.listdir(os.path.join('archive', dir1)):\n",
    "    image_path= os.path.join('archive', dir1,  file)\n",
    "    im =np.asarray(Image.open(image_path))\n",
    "\n",
    "    V = np.reshape(im, (1,np.size(im)));\n",
    "    Dataset.append(V[0])                # appending feature vector of current image to the Dataset (for non deeps)\n",
    "    imgdb.append(im)                    # appending feature vector of current image to the imgdb (for NNs)\n",
    "    Label.append(dir1)                  # appending the folder name as the label of the current image\n",
    "    k = k+1;\n",
    "    class_counter = class_counter + 1\n",
    "  # show examples of images\n",
    "  ax = fig.add_subplot(1, 6, im_counter)\n",
    "  im_counter = im_counter + 1\n",
    "  imgplot = plt.imshow(im, cmap='gray')\n",
    "  print(\"No. of Samples (images) in Class \", dir1, \"= \" , class_counter)\n",
    "print(\"Total Data Samples (number of images): \", k)\n",
    "print(\"Number of features in each sample = \", len(V[0]))\n"
   ]
  },
  {
   "cell_type": "markdown",
   "metadata": {
    "id": "jk9_qOxc3x2z"
   },
   "source": [
    "**Training Classical Models: Naive Bayes - K Nearest Neighbors - Decision tree**\n",
    "\n",
    "Three different classical ML models have been selected for medical image classification: Naiive Bayes which is a fast probablistic model, Decision Tree, and Logisitc Regression. \n",
    "\n",
    "K Nearest neighbors also may provide high accuracy, but it's not practical as the dataset is large and prediciting will be very slow. So, it has not selected. \n",
    "\n",
    "Support vector machine (SVM) is another interesting alternative. But, as we will use different neural networks in next parts, I tried to choose simple algorithms and check their prformance against advanced models. \n",
    "\n",
    "\n",
    "First we split the dataset into training (70%) and test (30%) subsets (holdout method). k-fold cross validation strategy has not choosen, because the dataset is large enough, and 30% of that is about 30,000 samples which has a good diversity for evaluation. Also, holdout method is far faster than k-fold cross validation. \n",
    "\n",
    "Then we train three mentioned ML models based on training subset, and then provide the labels for both training and test subsets. "
   ]
  },
  {
   "cell_type": "code",
   "execution_count": 15,
   "metadata": {
    "id": "wxUiV_e0wEHN"
   },
   "outputs": [],
   "source": [
    "from sklearn.model_selection import train_test_split\n",
    "from sklearn.naive_bayes import GaussianNB\n",
    "from sklearn import tree\n",
    "from sklearn.linear_model import LogisticRegression"
   ]
  },
  {
   "cell_type": "code",
   "execution_count": 16,
   "metadata": {
    "id": "6FzcGNpA30Pb"
   },
   "outputs": [],
   "source": [
    "# split dataset\n",
    "X_train, X_test, y_train, y_test = train_test_split(Dataset, Label, test_size=0.3, random_state=0)\n",
    "\n",
    "# 1 - Naive Bayes\n",
    "gnb = GaussianNB();\n",
    "model_gnb = gnb.fit(X_train, y_train)\n",
    "y_predict_gnb = model_gnb.predict(X_test)\n",
    "y_predict_gnb_training = model_gnb.predict(X_train)"
   ]
  },
  {
   "cell_type": "code",
   "execution_count": 17,
   "metadata": {
    "id": "1DgWv9u8FCQ7"
   },
   "outputs": [],
   "source": [
    "# 2 - Decision Tree\n",
    "tr = tree.DecisionTreeClassifier()\n",
    "model_tree = tr.fit(X_train, y_train)\n",
    "y_predict_tree = model_tree.predict(X_test)\n",
    "y_predict_tree_training = model_tree.predict(X_train)"
   ]
  },
  {
   "cell_type": "code",
   "execution_count": 18,
   "metadata": {
    "colab": {
     "base_uri": "https://localhost:8080/"
    },
    "id": "Met4EdAVFDkg",
    "outputId": "9e885056-1995-4275-ead2-b3f374268636"
   },
   "outputs": [
    {
     "name": "stderr",
     "output_type": "stream",
     "text": [
      "C:\\Users\\Farimah\\anaconda3\\lib\\site-packages\\sklearn\\linear_model\\_logistic.py:444: ConvergenceWarning: lbfgs failed to converge (status=1):\n",
      "STOP: TOTAL NO. of ITERATIONS REACHED LIMIT.\n",
      "\n",
      "Increase the number of iterations (max_iter) or scale the data as shown in:\n",
      "    https://scikit-learn.org/stable/modules/preprocessing.html\n",
      "Please also refer to the documentation for alternative solver options:\n",
      "    https://scikit-learn.org/stable/modules/linear_model.html#logistic-regression\n",
      "  n_iter_i = _check_optimize_result(\n"
     ]
    }
   ],
   "source": [
    "# 3 - Logistic Regression\n",
    "lr = LogisticRegression(random_state=0)\n",
    "model_lr = lr.fit(X_train, y_train)\n",
    "y_predict_lr = model_lr.predict(X_test)\n",
    "y_predict_lr_training = model_lr.predict(X_train)"
   ]
  },
  {
   "cell_type": "markdown",
   "metadata": {
    "id": "D8gM__AlSJ4s"
   },
   "source": [
    "**Evaluation of classical models**\n",
    "\n",
    "Using previous provided labels for training and test samples, in this section, the evaluation criteria for the results have been calculated and reported. \n",
    "\n",
    "For all the three models, the values of Accuracy, Precision, Recall, and F-score, have been calculated for both training and test subsets. Also, the confusion matrix for test subsets is reported for all models. It is quite a balanced dataset, so we can use accuracy as metric. However, having multiple metrics is always handy.\n",
    "\n",
    "There is a bit of overfitting as training accuracy is higher than test accuracy. The accuracy for all models is higher that 0.97, and there is a little difference between training and test results. \n",
    "\n",
    "The best model among these three models is Decision Tree with the acc. of 0.9938"
   ]
  },
  {
   "cell_type": "code",
   "execution_count": 19,
   "metadata": {
    "colab": {
     "base_uri": "https://localhost:8080/"
    },
    "id": "flbbAwjkSM8B",
    "outputId": "1ec7035a-07fb-40d2-f990-00a4033af11e"
   },
   "outputs": [
    {
     "name": "stdout",
     "output_type": "stream",
     "text": [
      "Naiive Bayes Results: \n",
      "confusion Matrix: \n",
      "[[2968    0   24    0    2    0]\n",
      " [   0 2626    0    0   43    0]\n",
      " [   0    0 2963    0   44    0]\n",
      " [   0    0   35 2946    0    0]\n",
      " [   0    0  131    0 2893    0]\n",
      " [   0    0    0    0  101 2911]]\n",
      ">> Test Set:\n",
      "Accuracy =  0.9785152937185504    Precision =  0.9792182981258163   Recall =  0.9785152937185504   F-Score =  0.9786921401795132\n",
      ">> Training Set:\n",
      "Accuracy =  0.9807836770300724    Precision =  0.9813026086373493   Recall =  0.9807836770300724   F-Score =  0.9809157985963062\n",
      "----------------------------------------------------------------------------\n",
      "Logistic Regression Results: \n",
      "confusion Matrix: \n",
      "[[2985    0    0    9    0    0]\n",
      " [   0 2669    0    0    0    0]\n",
      " [   3    1 2975    5   17    6]\n",
      " [   5    0    0 2976    0    0]\n",
      " [  12    0   23    5 2919   65]\n",
      " [  15    0    5   42   40 2910]]\n",
      ">> Test Set:\n",
      "Accuracy =  0.9856957087126138    Precision =  0.985680528044664   Recall =  0.9856957087126138   F-Score =  0.9856553897450294\n",
      ">> Training Set:\n",
      "Accuracy =  0.9918094361111784    Precision =  0.9918396975791289   Recall =  0.9918094361111784   F-Score =  0.9917987739981087\n",
      "----------------------------------------------------------------------------\n",
      "Decision Tree Results: \n",
      "confusion Matrix: \n",
      "[[2994    0    0    0    0    0]\n",
      " [   0 2669    0    0    0    0]\n",
      " [   0    1 2959    3   41    3]\n",
      " [   0    0    0 2977    4    0]\n",
      " [   1    2   30    1 2982    8]\n",
      " [   0    0    1    0   14 2997]]\n",
      ">> Test Set:\n",
      "Accuracy =  0.9938372816192684    Precision =  0.9938453466403766   Recall =  0.9938372816192684   F-Score =  0.9938385178591529\n",
      ">> Training Set:\n",
      "Accuracy =  1.0    Precision =  1.0   Recall =  1.0   F-Score =  1.0\n"
     ]
    }
   ],
   "source": [
    "from sklearn.metrics import confusion_matrix\n",
    "from sklearn.metrics import precision_recall_fscore_support\n",
    "\n",
    "# 1: Naiive Bayes results:\n",
    "print(\"Naiive Bayes Results: \")\n",
    "print(\"confusion Matrix: \")\n",
    "print(confusion_matrix(y_test, y_predict_gnb))\n",
    "acc_gnb = (y_test == y_predict_gnb).sum() / len(y_test)\n",
    "gnb_res = precision_recall_fscore_support(y_test, y_predict_gnb, average='weighted')\n",
    "print(\">> Test Set:\")\n",
    "print(\"Accuracy = \", acc_gnb, \"   Precision = \" , gnb_res[0], \"  Recall = \", gnb_res[1], \"  F-Score = \", gnb_res[2])\n",
    "print(\">> Training Set:\")\n",
    "acc_gnb_training = (y_train == y_predict_gnb_training).sum() / len(y_train)\n",
    "gnb_res_training = precision_recall_fscore_support(y_train, y_predict_gnb_training, average='weighted')\n",
    "print(\"Accuracy = \", acc_gnb_training, \"   Precision = \" , gnb_res_training[0], \"  Recall = \", gnb_res_training[1], \"  F-Score = \", gnb_res_training[2])\n",
    "print('----------------------------------------------------------------------------')\n",
    "\n",
    "# 2: Logistic Regression results:\n",
    "print(\"Logistic Regression Results: \")\n",
    "print(\"confusion Matrix: \")\n",
    "print(confusion_matrix(y_test, y_predict_lr))\n",
    "acc_lr = (y_test == y_predict_lr).sum() / len(y_test)\n",
    "lr_res = precision_recall_fscore_support(y_test, y_predict_lr, average='weighted')\n",
    "print(\">> Test Set:\")\n",
    "print(\"Accuracy = \", acc_lr, \"   Precision = \" , lr_res[0], \"  Recall = \", lr_res[1], \"  F-Score = \", lr_res[2])\n",
    "print(\">> Training Set:\")\n",
    "acc_lr_training = (y_train == y_predict_lr_training).sum() / len(y_train)\n",
    "lr_res_training = precision_recall_fscore_support(y_train, y_predict_lr_training, average='weighted')\n",
    "print(\"Accuracy = \", acc_lr_training, \"   Precision = \" , lr_res_training[0], \"  Recall = \", lr_res_training[1], \"  F-Score = \", lr_res_training[2])\n",
    "print('----------------------------------------------------------------------------')\n",
    "\n",
    "# 3: Tree Results\n",
    "print(\"Decision Tree Results: \")\n",
    "print(\"confusion Matrix: \")\n",
    "print(confusion_matrix(y_test, y_predict_tree))\n",
    "accuracy = (y_test == y_predict_tree).sum() / len(y_test)\n",
    "tree_res = precision_recall_fscore_support(y_test, y_predict_tree, average='weighted')\n",
    "print(\">> Test Set:\")\n",
    "print(\"Accuracy = \", accuracy, \"   Precision = \" , tree_res[0], \"  Recall = \", tree_res[1], \"  F-Score = \", tree_res[2])\n",
    "print(\">> Training Set:\")\n",
    "acc_tree_training = (y_train == y_predict_tree_training).sum() / len(y_train)\n",
    "tree_res_training = precision_recall_fscore_support(y_train, y_predict_tree_training, average='weighted')\n",
    "print(\"Accuracy = \", acc_tree_training, \"   Precision = \" , tree_res_training[0], \"  Recall = \", tree_res_training[1], \"  F-Score = \", tree_res_training[2])\n"
   ]
  },
  {
   "cell_type": "markdown",
   "metadata": {
    "id": "iNJhD9f3_cp2"
   },
   "source": [
    "**Preparing Dataset for Neural Networks**\n",
    "\n",
    "The labels in Keras should be in the Categorical type. But our labels are in the string type. So, in this section, we first turn string values of the labels into numbers, and then turn the numbers into categorical using *to_categorical* function. \n",
    "\n",
    "Also, we use the real shape of inputs (i.e. 64 × 64 × 1) in this section and next one.\n",
    "\n",
    "All the input images are converted from uint8 into float32 type, and normalized between 0 and 1 values. \n",
    "\n",
    "The batch size for both neural networks is set to 256 which is large enaugh to train faster, and small enaugh for preventing the out-of-memory problem. "
   ]
  },
  {
   "cell_type": "code",
   "execution_count": 20,
   "metadata": {
    "id": "f1hPnWe3_iKz"
   },
   "outputs": [],
   "source": [
    "from tensorflow import keras\n",
    "from tensorflow.keras import layers\n",
    "from tensorflow.keras.utils import to_categorical\n",
    "from sklearn.model_selection import train_test_split\n",
    "\n",
    "# turn string values to numbers 0-5\n",
    "Numerical_Label = [];\n",
    "for i in range(len(Label)):\n",
    "  if Label[i]=='AbdomenCT':\n",
    "    Numerical_Label.append(0);\n",
    "  elif Label[i]=='BreastMRI':\n",
    "    Numerical_Label.append(1);\n",
    "  elif Label[i]=='CXR':\n",
    "    Numerical_Label.append(2);\n",
    "  elif Label[i]=='ChestCT':\n",
    "    Numerical_Label.append(3);\n",
    "  elif Label[i]=='Hand':\n",
    "    Numerical_Label.append(4);\n",
    "  elif Label[i]=='HeadCT':\n",
    "    Numerical_Label.append(5);\n",
    "\n",
    "# turn numbers into categorical:\n",
    "Numerical_Label = np.array(Numerical_Label)\n",
    "imgdb = np.array(imgdb)\n",
    "output_matrix = to_categorical((Numerical_Label))\n",
    "num_classes = 6\n",
    "input_shape = (64, 64, 1)\n",
    "\n",
    "# the data, split between train (70%) and test sets (30%)\n",
    "X_train, X_test, y_train, y_test = train_test_split(imgdb, output_matrix, test_size=0.3, random_state=0)\n",
    "\n",
    "# Normalization and unit8 to float32 conversion\n",
    "X_train = X_train.astype(\"float32\") / 255\n",
    "X_test = X_test.astype(\"float32\") / 255\n",
    "\n",
    "batch_size = 256"
   ]
  },
  {
   "cell_type": "markdown",
   "metadata": {
    "id": "tn7S0pDEX5Kw"
   },
   "source": [
    "**Fully-Connected Neural Network**\n",
    " \n",
    "I tested some networks, and finally the best setting achieved as follows:\n",
    "- 2 hidden layers, each 10 neurons\n",
    "- all activation functions = 'ReLu'\n",
    "- Learning rate = 0.0001\n",
    "- optimizer = Adam\n",
    "\n",
    "It's a small model so it does not overfit quickly. Adam uses momentum and adaptive learning to learn faster.\n",
    "\n",
    "Other settings (like using tanh and sigmoid activations, or using stochastic gradient descent optimizer, or bigger learning rates) caused bigger loss in the model. Also smaller learning rates make training slower and needing more epochs for training. \n",
    "\n",
    "The results clearly shows that, this architecture could completely learn the problem, as training accuracy is very close to 100%.\n",
    "\n",
    "Also, The accuracy for test subset is bigger than decision tree result. So, The FCNN is better than classical models. "
   ]
  },
  {
   "cell_type": "code",
   "execution_count": 21,
   "metadata": {
    "colab": {
     "base_uri": "https://localhost:8080/"
    },
    "id": "LmQ8HuQeX1ho",
    "outputId": "e728e78f-974e-4ee7-f3db-b8ea9234cb23"
   },
   "outputs": [
    {
     "name": "stdout",
     "output_type": "stream",
     "text": [
      "Model: \"sequential\"\n",
      "_________________________________________________________________\n",
      " Layer (type)                Output Shape              Param #   \n",
      "=================================================================\n",
      " flatten (Flatten)           (None, 4096)              0         \n",
      "                                                                 \n",
      " dense (Dense)               (None, 10)                40970     \n",
      "                                                                 \n",
      " dense_1 (Dense)             (None, 10)                110       \n",
      "                                                                 \n",
      " dense_2 (Dense)             (None, 6)                 66        \n",
      "                                                                 \n",
      "=================================================================\n",
      "Total params: 41,146\n",
      "Trainable params: 41,146\n",
      "Non-trainable params: 0\n",
      "_________________________________________________________________\n",
      "Epoch 1/100\n",
      "162/162 [==============================] - 3s 12ms/step - loss: 1.2667 - accuracy: 0.4669\n",
      "Epoch 2/100\n",
      "162/162 [==============================] - 2s 11ms/step - loss: 0.7538 - accuracy: 0.7593\n",
      "Epoch 3/100\n",
      "162/162 [==============================] - 2s 11ms/step - loss: 0.5134 - accuracy: 0.9130\n",
      "Epoch 4/100\n",
      "162/162 [==============================] - 2s 11ms/step - loss: 0.3740 - accuracy: 0.9412\n",
      "Epoch 5/100\n",
      "162/162 [==============================] - 2s 11ms/step - loss: 0.2948 - accuracy: 0.9467\n",
      "Epoch 6/100\n",
      "162/162 [==============================] - 2s 11ms/step - loss: 0.2439 - accuracy: 0.9528\n",
      "Epoch 7/100\n",
      "162/162 [==============================] - 2s 11ms/step - loss: 0.2106 - accuracy: 0.9559\n",
      "Epoch 8/100\n",
      "162/162 [==============================] - 2s 11ms/step - loss: 0.1858 - accuracy: 0.9607\n",
      "Epoch 9/100\n",
      "162/162 [==============================] - 2s 11ms/step - loss: 0.1678 - accuracy: 0.9656\n",
      "Epoch 10/100\n",
      "162/162 [==============================] - 2s 11ms/step - loss: 0.1540 - accuracy: 0.9689\n",
      "Epoch 11/100\n",
      "162/162 [==============================] - 2s 11ms/step - loss: 0.1428 - accuracy: 0.9716\n",
      "Epoch 12/100\n",
      "162/162 [==============================] - 2s 11ms/step - loss: 0.1337 - accuracy: 0.9732\n",
      "Epoch 13/100\n",
      "162/162 [==============================] - 2s 11ms/step - loss: 0.1260 - accuracy: 0.9746\n",
      "Epoch 14/100\n",
      "162/162 [==============================] - 2s 11ms/step - loss: 0.1193 - accuracy: 0.9762\n",
      "Epoch 15/100\n",
      "162/162 [==============================] - 2s 11ms/step - loss: 0.1136 - accuracy: 0.9773\n",
      "Epoch 16/100\n",
      "162/162 [==============================] - 2s 11ms/step - loss: 0.1081 - accuracy: 0.9785\n",
      "Epoch 17/100\n",
      "162/162 [==============================] - 2s 11ms/step - loss: 0.1036 - accuracy: 0.9794\n",
      "Epoch 18/100\n",
      "162/162 [==============================] - 2s 11ms/step - loss: 0.0995 - accuracy: 0.9803\n",
      "Epoch 19/100\n",
      "162/162 [==============================] - 2s 11ms/step - loss: 0.0956 - accuracy: 0.9811\n",
      "Epoch 20/100\n",
      "162/162 [==============================] - 2s 11ms/step - loss: 0.0925 - accuracy: 0.9817\n",
      "Epoch 21/100\n",
      "162/162 [==============================] - 2s 11ms/step - loss: 0.0885 - accuracy: 0.9825\n",
      "Epoch 22/100\n",
      "162/162 [==============================] - 2s 11ms/step - loss: 0.0858 - accuracy: 0.9831\n",
      "Epoch 23/100\n",
      "162/162 [==============================] - 2s 11ms/step - loss: 0.0828 - accuracy: 0.9837\n",
      "Epoch 24/100\n",
      "162/162 [==============================] - 2s 11ms/step - loss: 0.0800 - accuracy: 0.9842\n",
      "Epoch 25/100\n",
      "162/162 [==============================] - 2s 11ms/step - loss: 0.0768 - accuracy: 0.9844\n",
      "Epoch 26/100\n",
      "162/162 [==============================] - 2s 11ms/step - loss: 0.0741 - accuracy: 0.9850\n",
      "Epoch 27/100\n",
      "162/162 [==============================] - 2s 11ms/step - loss: 0.0721 - accuracy: 0.9855\n",
      "Epoch 28/100\n",
      "162/162 [==============================] - 2s 11ms/step - loss: 0.0689 - accuracy: 0.9859\n",
      "Epoch 29/100\n",
      "162/162 [==============================] - 2s 11ms/step - loss: 0.0674 - accuracy: 0.9862\n",
      "Epoch 30/100\n",
      "162/162 [==============================] - 2s 11ms/step - loss: 0.0650 - accuracy: 0.9866\n",
      "Epoch 31/100\n",
      "162/162 [==============================] - 2s 11ms/step - loss: 0.0634 - accuracy: 0.9868\n",
      "Epoch 32/100\n",
      "162/162 [==============================] - 2s 11ms/step - loss: 0.0612 - accuracy: 0.9874\n",
      "Epoch 33/100\n",
      "162/162 [==============================] - 2s 11ms/step - loss: 0.0592 - accuracy: 0.9876\n",
      "Epoch 34/100\n",
      "162/162 [==============================] - 2s 11ms/step - loss: 0.0575 - accuracy: 0.9881\n",
      "Epoch 35/100\n",
      "162/162 [==============================] - 2s 11ms/step - loss: 0.0562 - accuracy: 0.9880\n",
      "Epoch 36/100\n",
      "162/162 [==============================] - 2s 11ms/step - loss: 0.0543 - accuracy: 0.9883\n",
      "Epoch 37/100\n",
      "162/162 [==============================] - 2s 11ms/step - loss: 0.0531 - accuracy: 0.9885\n",
      "Epoch 38/100\n",
      "162/162 [==============================] - 2s 11ms/step - loss: 0.0514 - accuracy: 0.9890\n",
      "Epoch 39/100\n",
      "162/162 [==============================] - 2s 11ms/step - loss: 0.0502 - accuracy: 0.9891\n",
      "Epoch 40/100\n",
      "162/162 [==============================] - 2s 11ms/step - loss: 0.0485 - accuracy: 0.9893\n",
      "Epoch 41/100\n",
      "162/162 [==============================] - 2s 11ms/step - loss: 0.0475 - accuracy: 0.9894\n",
      "Epoch 42/100\n",
      "162/162 [==============================] - 2s 11ms/step - loss: 0.0461 - accuracy: 0.9896\n",
      "Epoch 43/100\n",
      "162/162 [==============================] - 2s 11ms/step - loss: 0.0447 - accuracy: 0.9900\n",
      "Epoch 44/100\n",
      "162/162 [==============================] - 2s 11ms/step - loss: 0.0434 - accuracy: 0.9903\n",
      "Epoch 45/100\n",
      "162/162 [==============================] - 2s 12ms/step - loss: 0.0423 - accuracy: 0.9903\n",
      "Epoch 46/100\n",
      "162/162 [==============================] - 2s 12ms/step - loss: 0.0411 - accuracy: 0.9906\n",
      "Epoch 47/100\n",
      "162/162 [==============================] - 2s 12ms/step - loss: 0.0400 - accuracy: 0.9909\n",
      "Epoch 48/100\n",
      "162/162 [==============================] - 2s 12ms/step - loss: 0.0390 - accuracy: 0.9909\n",
      "Epoch 49/100\n",
      "162/162 [==============================] - 2s 13ms/step - loss: 0.0377 - accuracy: 0.9913\n",
      "Epoch 50/100\n",
      "162/162 [==============================] - 2s 12ms/step - loss: 0.0368 - accuracy: 0.9913\n",
      "Epoch 51/100\n",
      "162/162 [==============================] - 2s 12ms/step - loss: 0.0355 - accuracy: 0.9919\n",
      "Epoch 52/100\n",
      "162/162 [==============================] - 2s 12ms/step - loss: 0.0352 - accuracy: 0.9919\n",
      "Epoch 53/100\n",
      "162/162 [==============================] - 2s 12ms/step - loss: 0.0337 - accuracy: 0.9921\n",
      "Epoch 54/100\n",
      "162/162 [==============================] - 2s 11ms/step - loss: 0.0329 - accuracy: 0.9926\n",
      "Epoch 55/100\n",
      "162/162 [==============================] - 2s 11ms/step - loss: 0.0318 - accuracy: 0.9931\n",
      "Epoch 56/100\n",
      "162/162 [==============================] - 2s 11ms/step - loss: 0.0314 - accuracy: 0.9932\n",
      "Epoch 57/100\n",
      "162/162 [==============================] - 2s 11ms/step - loss: 0.0302 - accuracy: 0.9943\n",
      "Epoch 58/100\n",
      "162/162 [==============================] - 2s 11ms/step - loss: 0.0292 - accuracy: 0.9946\n",
      "Epoch 59/100\n",
      "162/162 [==============================] - 2s 11ms/step - loss: 0.0285 - accuracy: 0.9951\n",
      "Epoch 60/100\n",
      "162/162 [==============================] - 2s 11ms/step - loss: 0.0277 - accuracy: 0.9952\n",
      "Epoch 61/100\n",
      "162/162 [==============================] - 2s 12ms/step - loss: 0.0269 - accuracy: 0.9958\n",
      "Epoch 62/100\n",
      "162/162 [==============================] - 2s 13ms/step - loss: 0.0261 - accuracy: 0.9958\n",
      "Epoch 63/100\n",
      "162/162 [==============================] - 2s 12ms/step - loss: 0.0257 - accuracy: 0.9961\n",
      "Epoch 64/100\n",
      "162/162 [==============================] - 2s 11ms/step - loss: 0.0250 - accuracy: 0.9959\n",
      "Epoch 65/100\n",
      "162/162 [==============================] - 2s 12ms/step - loss: 0.0241 - accuracy: 0.9959\n",
      "Epoch 66/100\n",
      "162/162 [==============================] - 2s 11ms/step - loss: 0.0236 - accuracy: 0.9960\n",
      "Epoch 67/100\n",
      "162/162 [==============================] - 2s 11ms/step - loss: 0.0231 - accuracy: 0.9962\n",
      "Epoch 68/100\n",
      "162/162 [==============================] - 2s 11ms/step - loss: 0.0223 - accuracy: 0.9965\n",
      "Epoch 69/100\n",
      "162/162 [==============================] - 2s 11ms/step - loss: 0.0220 - accuracy: 0.9963\n",
      "Epoch 70/100\n",
      "162/162 [==============================] - 2s 13ms/step - loss: 0.0212 - accuracy: 0.9964\n",
      "Epoch 71/100\n",
      "162/162 [==============================] - 2s 11ms/step - loss: 0.0208 - accuracy: 0.9964\n",
      "Epoch 72/100\n",
      "162/162 [==============================] - 2s 11ms/step - loss: 0.0200 - accuracy: 0.9968\n",
      "Epoch 73/100\n",
      "162/162 [==============================] - 2s 11ms/step - loss: 0.0198 - accuracy: 0.9968\n",
      "Epoch 74/100\n",
      "162/162 [==============================] - 2s 11ms/step - loss: 0.0192 - accuracy: 0.9969\n",
      "Epoch 75/100\n",
      "162/162 [==============================] - 2s 11ms/step - loss: 0.0185 - accuracy: 0.9969\n",
      "Epoch 76/100\n",
      "162/162 [==============================] - 2s 11ms/step - loss: 0.0182 - accuracy: 0.9969\n",
      "Epoch 77/100\n",
      "162/162 [==============================] - 2s 11ms/step - loss: 0.0179 - accuracy: 0.9970\n",
      "Epoch 78/100\n",
      "162/162 [==============================] - 2s 11ms/step - loss: 0.0172 - accuracy: 0.9970\n",
      "Epoch 79/100\n",
      "162/162 [==============================] - 2s 11ms/step - loss: 0.0169 - accuracy: 0.9971\n",
      "Epoch 80/100\n",
      "162/162 [==============================] - 2s 11ms/step - loss: 0.0162 - accuracy: 0.9973\n",
      "Epoch 81/100\n",
      "162/162 [==============================] - 2s 11ms/step - loss: 0.0160 - accuracy: 0.9973\n",
      "Epoch 82/100\n",
      "162/162 [==============================] - 2s 11ms/step - loss: 0.0157 - accuracy: 0.9973\n",
      "Epoch 83/100\n",
      "162/162 [==============================] - 2s 11ms/step - loss: 0.0151 - accuracy: 0.9976\n",
      "Epoch 84/100\n",
      "162/162 [==============================] - 2s 11ms/step - loss: 0.0154 - accuracy: 0.9973\n",
      "Epoch 85/100\n",
      "162/162 [==============================] - 2s 11ms/step - loss: 0.0146 - accuracy: 0.9974\n",
      "Epoch 86/100\n",
      "162/162 [==============================] - 2s 11ms/step - loss: 0.0141 - accuracy: 0.9976\n",
      "Epoch 87/100\n",
      "162/162 [==============================] - 2s 11ms/step - loss: 0.0138 - accuracy: 0.9976\n",
      "Epoch 88/100\n",
      "162/162 [==============================] - 2s 12ms/step - loss: 0.0135 - accuracy: 0.9977\n",
      "Epoch 89/100\n",
      "162/162 [==============================] - 2s 11ms/step - loss: 0.0132 - accuracy: 0.9978\n",
      "Epoch 90/100\n",
      "162/162 [==============================] - 2s 11ms/step - loss: 0.0127 - accuracy: 0.9979\n",
      "Epoch 91/100\n",
      "162/162 [==============================] - 2s 11ms/step - loss: 0.0126 - accuracy: 0.9979\n",
      "Epoch 92/100\n",
      "162/162 [==============================] - 2s 11ms/step - loss: 0.0125 - accuracy: 0.9979\n",
      "Epoch 93/100\n",
      "162/162 [==============================] - 2s 11ms/step - loss: 0.0120 - accuracy: 0.9981\n",
      "Epoch 94/100\n",
      "162/162 [==============================] - 2s 11ms/step - loss: 0.0118 - accuracy: 0.9981\n",
      "Epoch 95/100\n",
      "162/162 [==============================] - 2s 12ms/step - loss: 0.0115 - accuracy: 0.9982\n",
      "Epoch 96/100\n",
      "162/162 [==============================] - 2s 11ms/step - loss: 0.0113 - accuracy: 0.9981\n",
      "Epoch 97/100\n",
      "162/162 [==============================] - 2s 11ms/step - loss: 0.0109 - accuracy: 0.9983\n",
      "Epoch 98/100\n",
      "162/162 [==============================] - 2s 11ms/step - loss: 0.0109 - accuracy: 0.9984\n",
      "Epoch 99/100\n",
      "162/162 [==============================] - 2s 11ms/step - loss: 0.0107 - accuracy: 0.9983\n",
      "Epoch 100/100\n",
      "162/162 [==============================] - 2s 11ms/step - loss: 0.0107 - accuracy: 0.9983\n",
      "Test loss: 0.021434804424643517\n",
      "Test accuracy: 0.9953638315200806\n"
     ]
    }
   ],
   "source": [
    "model = keras.Sequential(\n",
    "    [\n",
    "        layers.Flatten(input_shape=input_shape),\n",
    "        layers.Dense(10, activation='relu'),\n",
    "        layers.Dense(10, activation='relu'),\n",
    "        layers.Dense(num_classes, activation='softmax')\n",
    "    ]\n",
    ")\n",
    "model.summary()\n",
    "epochs = 100\n",
    "model.compile(loss=\"categorical_crossentropy\", optimizer=keras.optimizers.Adam(learning_rate=1e-4), metrics=[\"accuracy\"])\n",
    "model.fit(X_train, y_train, batch_size=batch_size, epochs=epochs)\n",
    "score = model.evaluate(X_test, y_test, verbose=0)\n",
    "print(\"Test loss:\", score[0])\n",
    "print(\"Test accuracy:\", score[1])\n",
    "\n"
   ]
  },
  {
   "cell_type": "markdown",
   "metadata": {
    "id": "Clh_Ce4iX-cv"
   },
   "source": [
    "**Convolutional Neural Network**\n",
    "\n",
    "I tried to create a CNN model very similar to FCNN model. So, the number of parameters for this model is very close to FCNN (FCNN = 41146 , CNN = 41....)\n",
    "\n",
    "Also, it has 2 convolutional layers with relu activation, and in the last layer I have used a softmax layer to classify more than 2 classes.\n",
    "\n",
    "Other settings, like learning rate, optimizer, mini batch size, etc are similar to previous model. \n",
    "\n",
    "The results clearly shows that CNN is the best model among all the examined models. "
   ]
  },
  {
   "cell_type": "code",
   "execution_count": 22,
   "metadata": {
    "colab": {
     "base_uri": "https://localhost:8080/"
    },
    "id": "z8qQ0z9eXFva",
    "outputId": "ba33f01a-d22f-4525-e685-1eeeb1efd781"
   },
   "outputs": [
    {
     "name": "stdout",
     "output_type": "stream",
     "text": [
      "Model: \"sequential_1\"\n",
      "_________________________________________________________________\n",
      " Layer (type)                Output Shape              Param #   \n",
      "=================================================================\n",
      " conv2d (Conv2D)             (None, 62, 62, 16)        160       \n",
      "                                                                 \n",
      " max_pooling2d (MaxPooling2D  (None, 31, 31, 16)       0         \n",
      " )                                                               \n",
      "                                                                 \n",
      " conv2d_1 (Conv2D)           (None, 29, 29, 31)        4495      \n",
      "                                                                 \n",
      " max_pooling2d_1 (MaxPooling  (None, 14, 14, 31)       0         \n",
      " 2D)                                                             \n",
      "                                                                 \n",
      " flatten_1 (Flatten)         (None, 6076)              0         \n",
      "                                                                 \n",
      " dense_3 (Dense)             (None, 6)                 36462     \n",
      "                                                                 \n",
      "=================================================================\n",
      "Total params: 41,117\n",
      "Trainable params: 41,117\n",
      "Non-trainable params: 0\n",
      "_________________________________________________________________\n",
      "Epoch 1/30\n",
      "162/162 [==============================] - 74s 454ms/step - loss: 1.0022 - accuracy: 0.7307\n",
      "Epoch 2/30\n",
      "162/162 [==============================] - 72s 441ms/step - loss: 0.2301 - accuracy: 0.9475\n",
      "Epoch 3/30\n",
      "162/162 [==============================] - 71s 438ms/step - loss: 0.1179 - accuracy: 0.9769\n",
      "Epoch 4/30\n",
      "162/162 [==============================] - 74s 457ms/step - loss: 0.0782 - accuracy: 0.9866\n",
      "Epoch 5/30\n",
      "162/162 [==============================] - 71s 440ms/step - loss: 0.0593 - accuracy: 0.9903\n",
      "Epoch 6/30\n",
      "162/162 [==============================] - 73s 451ms/step - loss: 0.0476 - accuracy: 0.9921\n",
      "Epoch 7/30\n",
      "162/162 [==============================] - 70s 431ms/step - loss: 0.0398 - accuracy: 0.9939\n",
      "Epoch 8/30\n",
      "162/162 [==============================] - 72s 443ms/step - loss: 0.0338 - accuracy: 0.9946\n",
      "Epoch 9/30\n",
      "162/162 [==============================] - 74s 459ms/step - loss: 0.0293 - accuracy: 0.9955\n",
      "Epoch 10/30\n",
      "162/162 [==============================] - 73s 450ms/step - loss: 0.0257 - accuracy: 0.9958\n",
      "Epoch 11/30\n",
      "162/162 [==============================] - 70s 433ms/step - loss: 0.0226 - accuracy: 0.9964\n",
      "Epoch 12/30\n",
      "162/162 [==============================] - 70s 435ms/step - loss: 0.0202 - accuracy: 0.9968\n",
      "Epoch 13/30\n",
      "162/162 [==============================] - 72s 442ms/step - loss: 0.0180 - accuracy: 0.9970\n",
      "Epoch 14/30\n",
      "162/162 [==============================] - 88s 545ms/step - loss: 0.0162 - accuracy: 0.9973\n",
      "Epoch 15/30\n",
      "162/162 [==============================] - 86s 528ms/step - loss: 0.0146 - accuracy: 0.9976\n",
      "Epoch 16/30\n",
      "162/162 [==============================] - 71s 438ms/step - loss: 0.0133 - accuracy: 0.9978\n",
      "Epoch 17/30\n",
      "162/162 [==============================] - 71s 439ms/step - loss: 0.0120 - accuracy: 0.9979\n",
      "Epoch 18/30\n",
      "162/162 [==============================] - 70s 431ms/step - loss: 0.0108 - accuracy: 0.9981\n",
      "Epoch 19/30\n",
      "162/162 [==============================] - 70s 430ms/step - loss: 0.0101 - accuracy: 0.9983\n",
      "Epoch 20/30\n",
      "162/162 [==============================] - 72s 444ms/step - loss: 0.0093 - accuracy: 0.9984\n",
      "Epoch 21/30\n",
      "162/162 [==============================] - 71s 436ms/step - loss: 0.0084 - accuracy: 0.9985\n",
      "Epoch 22/30\n",
      "162/162 [==============================] - 70s 431ms/step - loss: 0.0076 - accuracy: 0.9987\n",
      "Epoch 23/30\n",
      "162/162 [==============================] - 72s 445ms/step - loss: 0.0069 - accuracy: 0.9989\n",
      "Epoch 24/30\n",
      "162/162 [==============================] - 71s 436ms/step - loss: 0.0066 - accuracy: 0.9989\n",
      "Epoch 25/30\n",
      "162/162 [==============================] - 70s 433ms/step - loss: 0.0061 - accuracy: 0.9988\n",
      "Epoch 26/30\n",
      "162/162 [==============================] - 89s 548ms/step - loss: 0.0056 - accuracy: 0.9988\n",
      "Epoch 27/30\n",
      "162/162 [==============================] - 75s 463ms/step - loss: 0.0054 - accuracy: 0.9987\n",
      "Epoch 28/30\n",
      "162/162 [==============================] - 71s 436ms/step - loss: 0.0049 - accuracy: 0.9991\n",
      "Epoch 29/30\n",
      "162/162 [==============================] - 77s 476ms/step - loss: 0.0045 - accuracy: 0.9991\n",
      "Epoch 30/30\n",
      "162/162 [==============================] - 71s 440ms/step - loss: 0.0042 - accuracy: 0.9991\n",
      "Test loss: 0.008835149928927422\n",
      "Test accuracy: 0.9976819157600403\n"
     ]
    }
   ],
   "source": [
    "model = keras.Sequential(\n",
    "    [\n",
    "        keras.Input(shape=input_shape),\n",
    "        layers.Conv2D(16, kernel_size=(3, 3), activation=\"relu\"),\n",
    "        layers.MaxPooling2D(pool_size=(2, 2)),\n",
    "        layers.Conv2D(31, kernel_size=(3, 3), activation=\"relu\"),\n",
    "        layers.MaxPooling2D(pool_size=(2, 2)),\n",
    "        layers.Flatten(),\n",
    "        layers.Dense(num_classes, activation=\"softmax\"),\n",
    "    ]\n",
    ")\n",
    "model.summary()\n",
    "\n",
    "epochs = 30\n",
    "model.compile(loss=\"categorical_crossentropy\", optimizer=keras.optimizers.Adam(learning_rate=1e-4), metrics=[\"accuracy\"])\n",
    "model.fit(X_train, y_train, batch_size=batch_size, epochs=epochs)\n",
    "score = model.evaluate(X_test, y_test, verbose=0)\n",
    "print(\"Test loss:\", score[0])\n",
    "print(\"Test accuracy:\", score[1])\n"
   ]
  },
  {
   "cell_type": "markdown",
   "metadata": {
    "id": "7LI_wYVwwEHU"
   },
   "source": [
    "# Conclusion\n",
    "The artificial neural network and convolutional network both perform better than the baseline models. In this simple training cnn models (with acc= 0.9980)prforms slightly better than fully-connected neuram network (with acc=0.9966). However, I think the CNN is better suited for this dataset as it learns features from the images.\n"
   ]
  },
  {
   "cell_type": "code",
   "execution_count": null,
   "metadata": {
    "id": "NSdUmosJwEHV"
   },
   "outputs": [],
   "source": []
  }
 ],
 "metadata": {
  "colab": {
   "collapsed_sections": [],
   "name": "medicalMNISTproject.ipynb",
   "provenance": []
  },
  "kernelspec": {
   "display_name": "Python 3 (ipykernel)",
   "language": "python",
   "name": "python3"
  },
  "language_info": {
   "codemirror_mode": {
    "name": "ipython",
    "version": 3
   },
   "file_extension": ".py",
   "mimetype": "text/x-python",
   "name": "python",
   "nbconvert_exporter": "python",
   "pygments_lexer": "ipython3",
   "version": "3.9.7"
  }
 },
 "nbformat": 4,
 "nbformat_minor": 1
}
